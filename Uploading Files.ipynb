{
 "cells": [
  {
   "cell_type": "code",
   "execution_count": 1,
   "metadata": {},
   "outputs": [
    {
     "name": "stdout",
     "output_type": "stream",
     "text": [
      "Your browser has been opened to visit:\n",
      "\n",
      "    https://accounts.google.com/o/oauth2/auth?client_id=839676677362-7ile7rmhde5089d1dgm6akpel294it4k.apps.googleusercontent.com&redirect_uri=http%3A%2F%2Flocalhost%3A8080%2F&scope=https%3A%2F%2Fwww.googleapis.com%2Fauth%2Fdrive&access_type=offline&response_type=code\n",
      "\n",
      "Authentication successful.\n"
     ]
    }
   ],
   "source": [
    "# Sign-in\n",
    "from pydrive.auth import GoogleAuth\n",
    "\n",
    "gauth = GoogleAuth()\n",
    "gauth.LocalWebserverAuth() # Creates local webserver and auto handles authentication."
   ]
  },
  {
   "cell_type": "code",
   "execution_count": 2,
   "metadata": {},
   "outputs": [],
   "source": [
    "# - - - - - - Import necessary libraries - - - - - -\n",
    "\n",
    "# Import pydrive library\n",
    "from pydrive.drive import GoogleDrive\n",
    "\n",
    "# Import datatime to work with time series\n",
    "import datetime\n",
    "from datetime import date\n",
    "\n",
    "# Import os to work with local files and folders\n",
    "from os import listdir\n",
    "from os.path import isfile, join\n",
    "\n",
    "# Import smtplib to work with mail server\n",
    "import smtplib, ssl"
   ]
  },
  {
   "cell_type": "code",
   "execution_count": 3,
   "metadata": {},
   "outputs": [],
   "source": [
    "def GetAllFolders() :\n",
    "    drive = GoogleDrive(gauth)\n",
    "    folders = drive.ListFile({'q': \"mimeType = 'application/vnd.google-apps.folder' and trashed = false\"}).GetList()\n",
    "    return folders"
   ]
  },
  {
   "cell_type": "code",
   "execution_count": 4,
   "metadata": {},
   "outputs": [],
   "source": [
    "def GetFilesWithExt(ext) :\n",
    "    files = [file for file in listdir(mypath) if isfile(join(mypath, f))]\n",
    "    extFiles = []\n",
    "    for file in files :\n",
    "        if file[-3 : ] == ext :\n",
    "            extFiles.append(file)\n",
    "    return extFiles"
   ]
  },
  {
   "cell_type": "code",
   "execution_count": 5,
   "metadata": {},
   "outputs": [],
   "source": [
    "def ShowAllFolders(folders) :\n",
    "    print('Here are all the folders of your drive')\n",
    "    getMaxTitleLen = 0\n",
    "    getMaxIdLen = 0\n",
    "    for folder in folders :\n",
    "        getMaxTitleLen = max(getMaxTitleLen, len(folder['title']))\n",
    "        getMaxIdLen = max(getMaxIdLen, len(folder['id']))\n",
    "    # Print folders table\n",
    "    numColLen = len('No.') + len(' ' * 6)\n",
    "    titColLen = getMaxTitleLen + 6\n",
    "    idColLen = getMaxIdLen + 6\n",
    "    print('No.' + ' ' * (numColLen - len('No.')) + '|TITLE' + ' ' * (titColLen - len('TITLE')) + '|ID')\n",
    "    print('=' * (numColLen + titColLen + idColLen))\n",
    "    No = 1;\n",
    "    for folder in folders :\n",
    "        print(str(No) + ' ' * (numColLen - len(str(No))) + '|' + folder['title'] + ' ' * (titColLen - len(folder['title'])) + '|' + folder['id'])\n",
    "        print('-' * (numColLen + titColLen + idColLen))\n",
    "        No += 1"
   ]
  },
  {
   "cell_type": "code",
   "execution_count": 6,
   "metadata": {},
   "outputs": [],
   "source": [
    "def CreateANewFolder(parent_name, folder_name) :\n",
    "    drive = GoogleDrive(gauth)\n",
    "    folders = GetAllFolders()\n",
    "    parent_id = \"\"\n",
    "    for folder in folders :\n",
    "        if folder['title'] == parent_name :\n",
    "            parent_id = folder['id']\n",
    "            break\n",
    "    if parent_name == 'root' :\n",
    "        newFolder = drive.CreateFile({\n",
    "            'title': '[' + str(date.today()) + '] ' + folder_name,\n",
    "            'mimeType': 'application/vnd.google-apps.folder'\n",
    "        })\n",
    "    else :\n",
    "        newFolder = drive.CreateFile({\n",
    "            'title': '[' + str(date.today()) + '] ' + folder_name,\n",
    "            'parents': [{'id': parent_id}],\n",
    "            'mimeType': 'application/vnd.google-apps.folder'\n",
    "        })\n",
    "    newFolder.Upload()\n",
    "    return newFolder"
   ]
  },
  {
   "cell_type": "code",
   "execution_count": 7,
   "metadata": {},
   "outputs": [],
   "source": [
    "def WhereToUpload(dest) :\n",
    "    folderId = dest\n",
    "    if dest.lower() != 'root' :\n",
    "        folderId = dest\n",
    "    return folderId"
   ]
  },
  {
   "cell_type": "code",
   "execution_count": 8,
   "metadata": {},
   "outputs": [],
   "source": [
    "def UploadFiles(filesContainer, folderId) :\n",
    "    drive = GoogleDrive(gauth)\n",
    "    numFiles = 0\n",
    "    detailInfo = \"\"\n",
    "    dest = WhereToUpload(folderId)\n",
    "    for file in listdir(filesContainer) :\n",
    "        if dest.lower() != 'root' :\n",
    "            uploadFile = drive.CreateFile({\n",
    "                'parents' : [{'id' : dest}],\n",
    "                'title': file[ : -4]\n",
    "            })\n",
    "        else :\n",
    "            uploadFile = drive.CreateFile({\n",
    "                'title': file[ : -4]\n",
    "            })\n",
    "        uploadFile.SetContentFile(filesContainer + '\\\\' + file)\n",
    "        uploadFile.Upload()\n",
    "        numFiles += 1\n",
    "        detailInfo += \"\"\"\n",
    "        %d. %s\n",
    "            Size: %s\n",
    "            Modified Date: %s\n",
    "        - - - - - - - - - - - - - - - - - - - - - - - - - - - - - - - - - - - - - - - - - -\n",
    "        \"\"\" % (numFiles, uploadFile['title'], str(round(int(uploadFile['fileSize'])/1024, 2)) + ' KB', uploadFile['modifiedDate'][ : 10])\n",
    "    print('\\n' + str(numFiles) + ' file(s) successfully uploaded')\n",
    "    return (numFiles, detailInfo)"
   ]
  },
  {
   "cell_type": "code",
   "execution_count": 11,
   "metadata": {
    "scrolled": false
   },
   "outputs": [
    {
     "name": "stdout",
     "output_type": "stream",
     "text": [
      "Here are all the folders of your drive\n",
      "No.      |TITLE           |ID\n",
      "================================================================\n",
      "1        |Sub-TEMP 3      |1EyrMN56tAsiuWEGgnyacJGrorN8CYeB9\n",
      "----------------------------------------------------------------\n",
      "2        |Sub-TEMP 2      |1LupMq7HtOayYqBtCwOzse5BN8QWQDHbD\n",
      "----------------------------------------------------------------\n",
      "3        |Sub-TEMP 1      |1LenoQ_mO5O-QVq-GP1tVe9gQfL9cHcoX\n",
      "----------------------------------------------------------------\n",
      "4        |TEMP 3          |1xFk3hA9YV-Ufcxk7MFql_ta78I_0y_o7\n",
      "----------------------------------------------------------------\n",
      "5        |TEMP 2          |1aY-vvhO6jbtmr4FzP3tk3pp5VUi3qD_P\n",
      "----------------------------------------------------------------\n",
      "6        |TEMP 1          |1huQFf9t2d5e4OrD2tmIVnIWtAVdbuEVV\n",
      "----------------------------------------------------------------\n",
      "Do you want to upload files to existing folders or create a new one?\n",
      "1. Upload to existing folders\n",
      "2. Create a new folder\n",
      "2\n",
      "Please enter a parent folder name: root\n",
      "Please enter name of a new folder: New Folder\n",
      "Please enter the files path: > C:\\\\Users\\\\dacluc\\\\Desktop\\\\Upload_Files\n",
      "Please enter your email address, we'll inform you when uploading completed: > lucdacho@gmail.com\n",
      "\n",
      "3 file(s) successfully uploaded\n"
     ]
    }
   ],
   "source": [
    "# ===============================================\n",
    "# = = = = = = = = = MAIN DRIVER = = = = = = = = =\n",
    "# ===============================================\n",
    "\n",
    "import getpass    # https://www.geeksforgeeks.org/getpass-and-getuser-in-python-password-without-echo/\n",
    "\n",
    "# Get all user's drive folders\n",
    "folders = GetAllFolders()\n",
    "\n",
    "# Display them under a table\n",
    "ShowAllFolders(folders)\n",
    "\n",
    "# Ask user for his/her option\n",
    "folderId = \"\"\n",
    "option = input('Do you want to upload files to existing folders or create a new one?\\n1. Upload to existing folders\\n2. Create a new folder\\n')\n",
    "if(int(option) == 1) :\n",
    "    # Ask user for their desire drive folder to upload files\n",
    "    dest = input('Please specify the folder id you want to upload files: > ')\n",
    "    folderId = WhereToUpload(dest)\n",
    "else :\n",
    "    parent_name = input('Please enter a parent folder name: ')\n",
    "    folder_name = input('Please enter name of a new folder: ')\n",
    "    newFolder = CreateANewFolder(parent_name, folder_name)\n",
    "    folderId = newFolder['id']\n",
    "    \n",
    "\n",
    "# Ask user for their files container on local PC\n",
    "filesContainer = input('Please enter the files path: > ')    # C:\\\\Users\\\\dacluc\\\\Desktop\\\\Upload_Files\n",
    "\n",
    "# Ask user for their email address to inform them when the uploading process finished\n",
    "# receiverEmail = getpass.getpass(prompt = \"Please enter your email address, we'll inform you when uploading completed: > \")\n",
    "receiverEmail = input(\"Please enter your email address, we'll inform you when uploading completed: > \")\n",
    "\n",
    "# Files uploading starts from now . . .\n",
    "numFiles, detailInfo = UploadFiles(filesContainer, folderId)\n",
    "# print(detailInfo)\n",
    "\n",
    "# After uploaded, send user an email to kindly inform them\n",
    "# SendMailUsingSMTP(receiverEmail, \"Hello world\")\n",
    "# SendMailUsingSMTP2(receiverEmail.rstrip(), detailInfo)\n",
    "\n",
    "# - - - - - - SEND MAIL TO USER - - - - - -\n",
    "\n",
    "port = 587  # For starttls\n",
    "smtp_server = \"smtp.gmail.com\"\n",
    "sender_email = \"YOUREMAIL\"    # Your email address\n",
    "receiver_email = receiverEmail\n",
    "# password = input(\"Type your password and press enter:\")\n",
    "password = 'YOURPASSWORD'    # Your password\n",
    "message = \"\"\"\\\n",
    "Subject: Noti from Google Drive\n",
    "\n",
    "Hooray! %d files(s) have been successfully uploaded\n",
    "- - - - - - - - -\n",
    "\n",
    "%s\n",
    "\"\"\" % (numFiles, detailInfo)\n",
    "context = ssl.create_default_context()\n",
    "with smtplib.SMTP(smtp_server, port) as server:\n",
    "#     server.ehlo()  # Can be omitted\n",
    "    server.starttls(context=context)\n",
    "#     server.ehlo()  # Can be omitted\n",
    "    server.login(sender_email, password)\n",
    "    server.sendmail(sender_email, receiver_email, message)"
   ]
  }
 ],
 "metadata": {
  "kernelspec": {
   "display_name": "Python 3",
   "language": "python",
   "name": "python3"
  },
  "language_info": {
   "codemirror_mode": {
    "name": "ipython",
    "version": 3
   },
   "file_extension": ".py",
   "mimetype": "text/x-python",
   "name": "python",
   "nbconvert_exporter": "python",
   "pygments_lexer": "ipython3",
   "version": "3.7.1"
  }
 },
 "nbformat": 4,
 "nbformat_minor": 2
}
